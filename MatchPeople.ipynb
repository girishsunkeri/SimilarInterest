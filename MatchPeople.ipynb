{
 "cells": [
  {
   "cell_type": "code",
   "execution_count": 132,
   "metadata": {},
   "outputs": [],
   "source": [
    "import tensorflow as tf\n",
    "import tensorflow_hub as hub\n",
    "import numpy as np\n",
    "import pandas as pd\n"
   ]
  },
  {
   "cell_type": "code",
   "execution_count": 6,
   "metadata": {},
   "outputs": [],
   "source": [
    "module_url = \"https://tfhub.dev/google/universal-sentence-encoder/4\""
   ]
  },
  {
   "cell_type": "code",
   "execution_count": 7,
   "metadata": {},
   "outputs": [],
   "source": [
    "model = hub.load(module_url)"
   ]
  },
  {
   "cell_type": "code",
   "execution_count": 9,
   "metadata": {},
   "outputs": [],
   "source": [
    "def embed(input):\n",
    "  return model(input)"
   ]
  },
  {
   "cell_type": "code",
   "execution_count": 139,
   "metadata": {},
   "outputs": [],
   "source": [
    "#Use either of the two dataframes as your data source\n",
    "\n",
    "#data source 1\n",
    "data_csv = pd.read_csv(\"MyData/ML/projects/Infinity/matchdata.csv\")\n",
    "\n",
    "#data source 2\n",
    "data_local_raw = {'First_Name':['Marian', 'Joe', 'Gibbs', 'Linda', 'Max', 'Cesar', 'Liza', 'Amanda', 'Dian', 'Donald'], \n",
    "             'Last_name':['Boynton', 'Vaz', 'Paul', 'Hundsay', 'Millan', 'Millar', 'Ray', 'Lopez', 'Harris', 'Obama'],\n",
    "            'Interest_1':['data science', 'Roller skating', 'Look at the clouds', 'mobile app development', 'Summer job', 'Go hunting', 'to become and entrepreneur', 'CRICKET', 'theatres and drama', 'theatre and drama'],\n",
    "            'Interest_2':['bike adventure', 'reading thriller books', 'Horse races', 'deep learning in computer vision', 'Make bird feeder', 'Collect sea shells', 'Pick wild flowers', 'playing musical instruments', 'sharing my experience and wisdom', 'machine learning'],\n",
    "            'Interest_3':['acting', 'legged race', 'angel investor', 'Mini golf', 'Adopt a star', 'Watch a sunset', 'all things related to cats', 'connecting with kindred spirits', 'research and discovery', 'Adventure']}\n",
    "data_local = pd.DataFrame(data_local_raw)\n",
    "\n"
   ]
  },
  {
   "cell_type": "code",
   "execution_count": 134,
   "metadata": {},
   "outputs": [
    {
     "data": {
      "text/html": [
       "<div>\n",
       "<style scoped>\n",
       "    .dataframe tbody tr th:only-of-type {\n",
       "        vertical-align: middle;\n",
       "    }\n",
       "\n",
       "    .dataframe tbody tr th {\n",
       "        vertical-align: top;\n",
       "    }\n",
       "\n",
       "    .dataframe thead th {\n",
       "        text-align: right;\n",
       "    }\n",
       "</style>\n",
       "<table border=\"1\" class=\"dataframe\">\n",
       "  <thead>\n",
       "    <tr style=\"text-align: right;\">\n",
       "      <th></th>\n",
       "      <th>First_Name</th>\n",
       "      <th>Last_name</th>\n",
       "      <th>Interest_1</th>\n",
       "      <th>Interest_2</th>\n",
       "      <th>Interest_3</th>\n",
       "    </tr>\n",
       "  </thead>\n",
       "  <tbody>\n",
       "    <tr>\n",
       "      <th>0</th>\n",
       "      <td>Marian</td>\n",
       "      <td>Boynton</td>\n",
       "      <td>data science</td>\n",
       "      <td>bike adventure</td>\n",
       "      <td>acting</td>\n",
       "    </tr>\n",
       "    <tr>\n",
       "      <th>1</th>\n",
       "      <td>Joe</td>\n",
       "      <td>Vaz</td>\n",
       "      <td>Roller skating</td>\n",
       "      <td>reading thriller books</td>\n",
       "      <td>legged race</td>\n",
       "    </tr>\n",
       "    <tr>\n",
       "      <th>2</th>\n",
       "      <td>Gibbs</td>\n",
       "      <td>Paul</td>\n",
       "      <td>Look at the clouds</td>\n",
       "      <td>Horse races</td>\n",
       "      <td>angel investor</td>\n",
       "    </tr>\n",
       "    <tr>\n",
       "      <th>3</th>\n",
       "      <td>Linda</td>\n",
       "      <td>Hundsay</td>\n",
       "      <td>mobile app development</td>\n",
       "      <td>deep learning in computer vision</td>\n",
       "      <td>Mini golf</td>\n",
       "    </tr>\n",
       "    <tr>\n",
       "      <th>4</th>\n",
       "      <td>Max</td>\n",
       "      <td>Millan</td>\n",
       "      <td>Summer job</td>\n",
       "      <td>Make bird feeder</td>\n",
       "      <td>Adopt a star</td>\n",
       "    </tr>\n",
       "    <tr>\n",
       "      <th>5</th>\n",
       "      <td>Cesar</td>\n",
       "      <td>Millar</td>\n",
       "      <td>Go hunting</td>\n",
       "      <td>Collect sea shells</td>\n",
       "      <td>Watch a sunset</td>\n",
       "    </tr>\n",
       "    <tr>\n",
       "      <th>6</th>\n",
       "      <td>Liza</td>\n",
       "      <td>Ray</td>\n",
       "      <td>to become and entrepreneur</td>\n",
       "      <td>Pick wild flowers</td>\n",
       "      <td>all things related to cats</td>\n",
       "    </tr>\n",
       "    <tr>\n",
       "      <th>7</th>\n",
       "      <td>Amanda</td>\n",
       "      <td>Lopez</td>\n",
       "      <td>CRICKET</td>\n",
       "      <td>playing musical instruments</td>\n",
       "      <td>connecting with kindred spirits</td>\n",
       "    </tr>\n",
       "    <tr>\n",
       "      <th>8</th>\n",
       "      <td>Dian</td>\n",
       "      <td>Harris</td>\n",
       "      <td>theatres and drama</td>\n",
       "      <td>sharing my experience and wisdom</td>\n",
       "      <td>research and discovery</td>\n",
       "    </tr>\n",
       "    <tr>\n",
       "      <th>9</th>\n",
       "      <td>Donald</td>\n",
       "      <td>Obama</td>\n",
       "      <td>theatre and drama</td>\n",
       "      <td>machine learning</td>\n",
       "      <td>Adventure</td>\n",
       "    </tr>\n",
       "  </tbody>\n",
       "</table>\n",
       "</div>"
      ],
      "text/plain": [
       "  First_Name Last_name                  Interest_1  \\\n",
       "0     Marian   Boynton                data science   \n",
       "1        Joe       Vaz              Roller skating   \n",
       "2      Gibbs      Paul          Look at the clouds   \n",
       "3      Linda   Hundsay      mobile app development   \n",
       "4        Max    Millan                  Summer job   \n",
       "5      Cesar    Millar                  Go hunting   \n",
       "6       Liza       Ray  to become and entrepreneur   \n",
       "7     Amanda     Lopez                     CRICKET   \n",
       "8       Dian    Harris          theatres and drama   \n",
       "9     Donald     Obama           theatre and drama   \n",
       "\n",
       "                         Interest_2                       Interest_3  \n",
       "0                    bike adventure                           acting  \n",
       "1            reading thriller books                      legged race  \n",
       "2                       Horse races                   angel investor  \n",
       "3  deep learning in computer vision                        Mini golf  \n",
       "4                  Make bird feeder                     Adopt a star  \n",
       "5                Collect sea shells                   Watch a sunset  \n",
       "6                 Pick wild flowers       all things related to cats  \n",
       "7       playing musical instruments  connecting with kindred spirits  \n",
       "8  sharing my experience and wisdom           research and discovery  \n",
       "9                  machine learning                        Adventure  "
      ]
     },
     "execution_count": 134,
     "metadata": {},
     "output_type": "execute_result"
    }
   ],
   "source": [
    "data_local"
   ]
  },
  {
   "cell_type": "code",
   "execution_count": 19,
   "metadata": {},
   "outputs": [],
   "source": [
    "def get_embeddings(person1, person2):\n",
    "    person1_embeddings = embed(person1)\n",
    "    person2_embeddings = embed(person2)\n",
    "    \n",
    "    return person1_embeddings, person2_embeddings"
   ]
  },
  {
   "cell_type": "code",
   "execution_count": 140,
   "metadata": {},
   "outputs": [],
   "source": [
    "def calculate_corr_value(person1, person2):\n",
    "    person1_embeddings, person2_embeddings = get_embeddings(person1, person2)\n",
    "    sum = 0\n",
    "    for i in range(3):\n",
    "        min_diff = float('inf')\n",
    "        for j in range(3):\n",
    "            diff = np.sum(np.abs(person1_embeddings[i] - person2_embeddings[j]))\n",
    "            if diff < min_diff:\n",
    "                min_diff = diff\n",
    "        \n",
    "        sum += min_diff\n",
    "        \n",
    "    return sum\n",
    "        "
   ]
  },
  {
   "cell_type": "code",
   "execution_count": 195,
   "metadata": {},
   "outputs": [],
   "source": [
    "def find_a_match(person_id):\n",
    "    person1_list = data_local.iloc[person_id, 2:].values.tolist()\n",
    "    best_match_value = float('inf')\n",
    "    best_match_index = 0\n",
    "    for j in range (10):\n",
    "        if person_id != j:\n",
    "            person2_list = data_local.iloc[j, 2:].values.tolist()\n",
    "            corr = calculate_corr_value(person1_list, person2_list)\n",
    "            print(\"Match score bet person {} and {} is {}\".format(person_id, j, corr))\n",
    "            if corr < best_match_value:\n",
    "                best_match_value = corr\n",
    "                best_match_index = j\n",
    "    print(\"\\n{} {}({}) shares similar interest with {} {}({})\".format(data_local.iloc[person_id, 0], \n",
    "        data_local.iloc[person_id, 1],person_id, data_local.iloc[best_match_index, 0],data_local.iloc[best_match_index,1], best_match_index))\n",
    "    \n",
    "    "
   ]
  },
  {
   "cell_type": "code",
   "execution_count": 196,
   "metadata": {},
   "outputs": [
    {
     "name": "stdout",
     "output_type": "stream",
     "text": [
      "Match score bet person 6 and 0 is 70.45645713806152\n",
      "Match score bet person 6 and 1 is 70.4373550415039\n",
      "Match score bet person 6 and 2 is 67.68522834777832\n",
      "Match score bet person 6 and 3 is 68.51390075683594\n",
      "Match score bet person 6 and 4 is 67.82010269165039\n",
      "Match score bet person 6 and 5 is 69.11140441894531\n",
      "Match score bet person 6 and 7 is 69.94799041748047\n",
      "Match score bet person 6 and 8 is 70.12443351745605\n",
      "Match score bet person 6 and 9 is 72.12876510620117\n",
      "\n",
      "Liza Ray(6) shares similar interest with Gibbs Paul(2)\n"
     ]
    }
   ],
   "source": [
    "#find a match for 6th person\n",
    "find_a_match(6) # person index starts from zero\n"
   ]
  },
  {
   "cell_type": "code",
   "execution_count": null,
   "metadata": {},
   "outputs": [],
   "source": []
  }
 ],
 "metadata": {
  "kernelspec": {
   "display_name": "Python 3.6 (tensorflow)",
   "language": "python",
   "name": "tensorflow"
  },
  "language_info": {
   "codemirror_mode": {
    "name": "ipython",
    "version": 3
   },
   "file_extension": ".py",
   "mimetype": "text/x-python",
   "name": "python",
   "nbconvert_exporter": "python",
   "pygments_lexer": "ipython3",
   "version": "3.6.9"
  }
 },
 "nbformat": 4,
 "nbformat_minor": 2
}
